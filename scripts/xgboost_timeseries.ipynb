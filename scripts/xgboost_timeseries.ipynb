{
 "cells": [
  {
   "cell_type": "markdown",
   "id": "839a18e1-907b-4e9c-a256-e9d83921359b",
   "metadata": {},
   "source": [
    "### Import Libraries"
   ]
  },
  {
   "cell_type": "code",
   "execution_count": 1,
   "id": "cbc0f9da-52cf-4a15-8e95-634c060a6fe7",
   "metadata": {},
   "outputs": [],
   "source": [
    "# Libraries for data processing and math \n",
    "import pandas as pd\n",
    "import numpy as np\n",
    "\n",
    "# Library for file path manipulation \n",
    "import os\n",
    "\n",
    "# Libraries for machine learning algorithms \n",
    "import xgboost as xgb\n",
    "from sklearn.model_selection import GridSearchCV\n",
    "from sklearn.metrics import r2_score\n",
    "\n",
    "# Set seed to control randomness\n",
    "np.random.seed(156)"
   ]
  },
  {
   "cell_type": "markdown",
   "id": "5969139d-55c1-49b6-bc60-f05c9c12e6c8",
   "metadata": {},
   "source": [
    "### Read the cleaned data"
   ]
  },
  {
   "cell_type": "code",
   "execution_count": 2,
   "id": "8377053a-9937-45cd-8597-c61c7b6afc4c",
   "metadata": {},
   "outputs": [],
   "source": [
    "# This gets the file path of the data folder in EnvCausal-replication \n",
    "root = os.path.dirname(os.getcwd())\n",
    "data_dir = os.path.join(root, 'data')\n",
    "\n",
    "# Set the file path for the time series datasets (9 total)\n",
    "c1_overall_path = os.path.join(data_dir, 'time_cluster_1.csv')\n",
    "c1_postpeak_path = os.path.join(data_dir, 'time_cluster_1_postpeak.csv')\n",
    "c1_spread_path = os.path.join(data_dir, 'time_cluster_1_spread.csv')\n",
    "c2_overall_path = os.path.join(data_dir, 'time_cluster_2.csv')\n",
    "c2_postpeak_path = os.path.join(data_dir, 'time_cluster_2_postpeak.csv')\n",
    "c2_spread_path = os.path.join(data_dir, 'time_cluster_2_spread.csv')\n",
    "c3_overall_path = os.path.join(data_dir, 'time_cluster_3.csv')\n",
    "c3_postpeak_path = os.path.join(data_dir, 'time_cluster_3_postpeak.csv')\n",
    "c3_spread_path = os.path.join(data_dir, 'time_cluster_3_spread.csv')\n",
    "\n",
    "# Read time series datasets \n",
    "c1_overall = pd.read_csv(c1_overall_path).drop(columns=['Unnamed: 0', 'X.1'])\n",
    "c1_postpeak = pd.read_csv(c1_postpeak_path).drop(columns=['Unnamed: 0', 'X.1'])\n",
    "c1_spread = pd.read_csv(c1_spread_path).drop(columns=['Unnamed: 0', 'X.1'])\n",
    "c2_overall = pd.read_csv(c2_overall_path).drop(columns=['Unnamed: 0', 'X.1'])\n",
    "c2_postpeak = pd.read_csv(c2_postpeak_path).drop(columns=['Unnamed: 0', 'X.1'])\n",
    "c2_spread = pd.read_csv(c2_spread_path).drop(columns=['Unnamed: 0', 'X.1'])\n",
    "c3_overall = pd.read_csv(c3_overall_path).drop(columns=['Unnamed: 0', 'X.1'])\n",
    "c3_postpeak = pd.read_csv(c3_postpeak_path).drop(columns=['Unnamed: 0', 'X.1'])\n",
    "c3_spread = pd.read_csv(c3_spread_path).drop(columns=['Unnamed: 0', 'X.1'])\n",
    "\n",
    "# Set path for writing hyperparameter results \n",
    "hyperparam_dir = os.path.join(data_dir, 'hyperparam_opt')"
   ]
  },
  {
   "cell_type": "markdown",
   "id": "a33d79f0-9b11-4442-b23b-d9e46d5295fd",
   "metadata": {},
   "source": [
    "### Preparing for XGBoost modeling"
   ]
  },
  {
   "cell_type": "code",
   "execution_count": 3,
   "id": "6e524a31-35bf-4afb-b907-42b648785908",
   "metadata": {},
   "outputs": [],
   "source": [
    "# Define hyperparameters to grid search over (set by authors in Table S4 of extended paper)\n",
    "parameters = {\n",
    "              'njobs':[-1],\n",
    "              'learning_rate': [0.01,0.05,0.1,0.2,0.3], \n",
    "              #'max_depth': np.arange(2, 6), # don't have time to run all combos from 2-10\n",
    "              #'min_child_weight': np.arange(8, 11), # don't have time to run all combos from 2-10\n",
    "              'n_estimators': [25,50,75,100,150,200,250,300],\n",
    "              'eval_metric': [r2_score],\n",
    "              'seed': [156],\n",
    "              'objective':['reg:squarederror']\n",
    "            }\n",
    "key_metrics = ['param_learning_rate', #'param_max_depth', 'param_min_child_weight', \n",
    "              'param_n_estimators', 'mean_test_score']"
   ]
  },
  {
   "cell_type": "markdown",
   "id": "02c2b0dd-5202-41f3-93fc-da21bb9ec040",
   "metadata": {
    "tags": []
   },
   "source": [
    "### Cluster 1 Overall: Train/Cross-Validate XGBoost Model"
   ]
  },
  {
   "cell_type": "code",
   "execution_count": 4,
   "id": "1c821f4e-48c7-42a6-86cb-fc56ea576bbc",
   "metadata": {},
   "outputs": [
    {
     "name": "stdout",
     "output_type": "stream",
     "text": [
      "Fitting 5 folds for each of 40 candidates, totalling 200 fits\n"
     ]
    },
    {
     "name": "stderr",
     "output_type": "stream",
     "text": [
      "[Parallel(n_jobs=-1)]: Using backend LokyBackend with 12 concurrent workers.\n",
      "[Parallel(n_jobs=-1)]: Done  17 tasks      | elapsed:    8.2s\n",
      "[Parallel(n_jobs=-1)]: Done 138 tasks      | elapsed:   42.9s\n",
      "[Parallel(n_jobs=-1)]: Done 200 out of 200 | elapsed:   59.6s finished\n"
     ]
    },
    {
     "name": "stdout",
     "output_type": "stream",
     "text": [
      "[10:14:08] WARNING: C:/Users/Administrator/workspace/xgboost-win64_release_1.5.0/src/learner.cc:576: \n",
      "Parameters: { \"njobs\" } might not be used.\n",
      "\n",
      "  This could be a false alarm, with some parameters getting used by language bindings but\n",
      "  then being mistakenly passed down to XGBoost core, or some parameter actually being used\n",
      "  but getting flagged wrongly here. Please open an issue if you find any such cases.\n",
      "\n",
      "\n"
     ]
    }
   ],
   "source": [
    "# Define X and Y variables \n",
    "c1_overall_data = c1_overall.drop(columns=['X', 'Case', 'log.Case.1.', 'City'])\n",
    "c1_overall_target = c1_overall['Case']\n",
    "# Initialize XGBoost model and GridSearchCV process \n",
    "xgb_c1_overall = xgb.XGBRegressor()\n",
    "c1_overall_gridsearch = GridSearchCV(estimator=xgb_c1_overall, param_grid=parameters,\n",
    "                                     n_jobs=-1, cv=5, verbose=2)\n",
    "# Train the models\n",
    "c1_overall_gridsearch.fit(c1_overall_data, c1_overall_target);"
   ]
  },
  {
   "cell_type": "code",
   "execution_count": 5,
   "id": "846a52b6-b86d-4b00-9a74-a6059b90c362",
   "metadata": {},
   "outputs": [],
   "source": [
    "c1_overall_result = pd.DataFrame(c1_overall_gridsearch.cv_results_).sort_values(\n",
    "    'mean_test_score', ascending=False).iloc[0][key_metrics].to_frame()\n",
    "c1_overall_dir = os.path.join(hyperparam_dir, 'c1_overall_best_XGB.csv')\n",
    "c1_overall_result.T.to_csv(c1_overall_dir, index=False)"
   ]
  },
  {
   "cell_type": "markdown",
   "id": "9338c5ab-8b9a-4590-8f07-2a364ca42967",
   "metadata": {
    "tags": []
   },
   "source": [
    "### Cluster 1 Postpeak: Train/Cross-Validate XGBoost Model"
   ]
  },
  {
   "cell_type": "code",
   "execution_count": 6,
   "id": "d8f1cddf-87d7-46e2-a875-27455970170b",
   "metadata": {},
   "outputs": [
    {
     "name": "stdout",
     "output_type": "stream",
     "text": [
      "Fitting 5 folds for each of 40 candidates, totalling 200 fits\n"
     ]
    },
    {
     "name": "stderr",
     "output_type": "stream",
     "text": [
      "[Parallel(n_jobs=-1)]: Using backend LokyBackend with 12 concurrent workers.\n",
      "[Parallel(n_jobs=-1)]: Done  17 tasks      | elapsed:    2.8s\n",
      "[Parallel(n_jobs=-1)]: Done 138 tasks      | elapsed:   38.3s\n",
      "[Parallel(n_jobs=-1)]: Done 200 out of 200 | elapsed:   46.0s finished\n"
     ]
    },
    {
     "name": "stdout",
     "output_type": "stream",
     "text": [
      "[10:14:55] WARNING: C:/Users/Administrator/workspace/xgboost-win64_release_1.5.0/src/learner.cc:576: \n",
      "Parameters: { \"njobs\" } might not be used.\n",
      "\n",
      "  This could be a false alarm, with some parameters getting used by language bindings but\n",
      "  then being mistakenly passed down to XGBoost core, or some parameter actually being used\n",
      "  but getting flagged wrongly here. Please open an issue if you find any such cases.\n",
      "\n",
      "\n"
     ]
    }
   ],
   "source": [
    "# Define X and Y variables \n",
    "c1_postpeak_data = c1_postpeak.drop(columns=['X', 'Case', 'log.Case.1.', 'City'])\n",
    "c1_postpeak_target = c1_postpeak['Case']\n",
    "# Initialize XGBoost model and GridSearchCV process \n",
    "xgb_c1_postpeak = xgb.XGBRegressor()\n",
    "c1_postpeak_gridsearch = GridSearchCV(estimator=xgb_c1_postpeak, param_grid=parameters,\n",
    "                                     n_jobs=-1, cv=5, verbose=2, scoring='r2')\n",
    "# Train the models\n",
    "c1_postpeak_gridsearch.fit(c1_postpeak_data, c1_postpeak_target);"
   ]
  },
  {
   "cell_type": "code",
   "execution_count": 7,
   "id": "337761cb-1999-4078-8f29-a7e5ac6ddc33",
   "metadata": {},
   "outputs": [],
   "source": [
    "c1_postpeak_result = pd.DataFrame(c1_postpeak_gridsearch.cv_results_).sort_values(\n",
    "    'mean_test_score', ascending=False).iloc[0][key_metrics].to_frame()\n",
    "c1_postpeak_dir = os.path.join(hyperparam_dir, 'c1_postpeak_best_XGB.csv')\n",
    "c1_postpeak_result.T.to_csv(c1_postpeak_dir, index=False)"
   ]
  },
  {
   "cell_type": "markdown",
   "id": "9ae822c8-10a4-4996-ab0c-2d13d7d26a05",
   "metadata": {
    "tags": []
   },
   "source": [
    "### Cluster 1 Spread: Train/Cross-Validate XGBoost Model"
   ]
  },
  {
   "cell_type": "code",
   "execution_count": 8,
   "id": "3047d552-4b6c-47fe-9e42-d9bda8cd02b0",
   "metadata": {},
   "outputs": [
    {
     "name": "stdout",
     "output_type": "stream",
     "text": [
      "Fitting 5 folds for each of 40 candidates, totalling 200 fits\n"
     ]
    },
    {
     "name": "stderr",
     "output_type": "stream",
     "text": [
      "[Parallel(n_jobs=-1)]: Using backend LokyBackend with 12 concurrent workers.\n",
      "[Parallel(n_jobs=-1)]: Done  17 tasks      | elapsed:    0.9s\n",
      "[Parallel(n_jobs=-1)]: Done 174 tasks      | elapsed:   14.1s\n",
      "[Parallel(n_jobs=-1)]: Done 200 out of 200 | elapsed:   15.5s finished\n"
     ]
    },
    {
     "name": "stdout",
     "output_type": "stream",
     "text": [
      "[10:15:11] WARNING: C:/Users/Administrator/workspace/xgboost-win64_release_1.5.0/src/learner.cc:576: \n",
      "Parameters: { \"njobs\" } might not be used.\n",
      "\n",
      "  This could be a false alarm, with some parameters getting used by language bindings but\n",
      "  then being mistakenly passed down to XGBoost core, or some parameter actually being used\n",
      "  but getting flagged wrongly here. Please open an issue if you find any such cases.\n",
      "\n",
      "\n"
     ]
    }
   ],
   "source": [
    "# Define X and Y variables \n",
    "c1_spread_data = c1_spread.drop(columns=['X', 'Case', 'log.Case.1.', 'City'])\n",
    "c1_spread_target = c1_spread['Case']\n",
    "# Initialize XGBoost model and GridSearchCV process \n",
    "xgb_c1_spread = xgb.XGBRegressor()\n",
    "c1_spread_gridsearch = GridSearchCV(estimator=xgb_c1_spread, param_grid=parameters,\n",
    "                                     n_jobs=-1, cv=5, verbose=2, scoring='r2')\n",
    "# Train the models\n",
    "c1_spread_gridsearch.fit(c1_spread_data, c1_spread_target);"
   ]
  },
  {
   "cell_type": "code",
   "execution_count": 9,
   "id": "608754ae-0974-4860-9378-91b4fab51abc",
   "metadata": {},
   "outputs": [],
   "source": [
    "c1_spread_result = pd.DataFrame(c1_spread_gridsearch.cv_results_).sort_values(\n",
    "    'mean_test_score', ascending=False).iloc[0][key_metrics].to_frame()\n",
    "c1_spread_dir = os.path.join(hyperparam_dir, 'c1_spread_best_XGB.csv')\n",
    "c1_spread_result.T.to_csv(c1_spread_dir, index=False)"
   ]
  },
  {
   "cell_type": "markdown",
   "id": "38353838-a362-4672-8c95-91abbb507247",
   "metadata": {
    "tags": []
   },
   "source": [
    "### Cluster 2 Overall: Train/Cross-Validate XGBoost Model"
   ]
  },
  {
   "cell_type": "code",
   "execution_count": 10,
   "id": "f56b4a2f-4115-4360-b3b9-8f5d3d01d37e",
   "metadata": {},
   "outputs": [
    {
     "name": "stdout",
     "output_type": "stream",
     "text": [
      "Fitting 5 folds for each of 40 candidates, totalling 200 fits\n"
     ]
    },
    {
     "name": "stderr",
     "output_type": "stream",
     "text": [
      "[Parallel(n_jobs=-1)]: Using backend LokyBackend with 12 concurrent workers.\n",
      "[Parallel(n_jobs=-1)]: Done  17 tasks      | elapsed:    2.1s\n",
      "[Parallel(n_jobs=-1)]: Done 138 tasks      | elapsed:   26.4s\n",
      "[Parallel(n_jobs=-1)]: Done 200 out of 200 | elapsed:   40.5s finished\n"
     ]
    },
    {
     "name": "stdout",
     "output_type": "stream",
     "text": [
      "[10:15:52] WARNING: C:/Users/Administrator/workspace/xgboost-win64_release_1.5.0/src/learner.cc:576: \n",
      "Parameters: { \"njobs\" } might not be used.\n",
      "\n",
      "  This could be a false alarm, with some parameters getting used by language bindings but\n",
      "  then being mistakenly passed down to XGBoost core, or some parameter actually being used\n",
      "  but getting flagged wrongly here. Please open an issue if you find any such cases.\n",
      "\n",
      "\n"
     ]
    }
   ],
   "source": [
    "# Define X and Y variables \n",
    "c2_overall_data = c2_overall.drop(columns=['X', 'Case', 'log.Case.1.', 'City'])\n",
    "c2_overall_target = c2_overall['Case']\n",
    "# Initialize XGBoost model and GridSearchCV process \n",
    "xgb_c2_overall = xgb.XGBRegressor()\n",
    "c2_overall_gridsearch = GridSearchCV(estimator=xgb_c2_overall, param_grid=parameters,\n",
    "                                     n_jobs=-1, cv=5, verbose=2, scoring='r2')\n",
    "# Train the models\n",
    "c2_overall_gridsearch.fit(c2_overall_data, c2_overall_target);"
   ]
  },
  {
   "cell_type": "code",
   "execution_count": 11,
   "id": "10b69e08-1791-40ab-9aec-708382000957",
   "metadata": {},
   "outputs": [],
   "source": [
    "c2_overall_result = pd.DataFrame(c2_overall_gridsearch.cv_results_).sort_values(\n",
    "    'mean_test_score', ascending=False).iloc[0][key_metrics].to_frame()\n",
    "c2_overall_dir = os.path.join(hyperparam_dir, 'c2_overall_best_XGB.csv')\n",
    "c2_overall_result.T.to_csv(c2_overall_dir, index=False)"
   ]
  },
  {
   "cell_type": "markdown",
   "id": "b27ac7a4-1a99-40cd-971d-b3c65db0e8c4",
   "metadata": {
    "tags": []
   },
   "source": [
    "### Cluster 2 Postpeak: Train/Cross-Validate XGBoost Model"
   ]
  },
  {
   "cell_type": "code",
   "execution_count": 12,
   "id": "be559913-406f-4bc9-89da-e92f7dfadedd",
   "metadata": {},
   "outputs": [
    {
     "name": "stdout",
     "output_type": "stream",
     "text": [
      "Fitting 5 folds for each of 40 candidates, totalling 200 fits\n"
     ]
    },
    {
     "name": "stderr",
     "output_type": "stream",
     "text": [
      "[Parallel(n_jobs=-1)]: Using backend LokyBackend with 12 concurrent workers.\n",
      "[Parallel(n_jobs=-1)]: Done  17 tasks      | elapsed:    1.9s\n",
      "[Parallel(n_jobs=-1)]: Done 138 tasks      | elapsed:   23.8s\n",
      "[Parallel(n_jobs=-1)]: Done 200 out of 200 | elapsed:   36.2s finished\n"
     ]
    },
    {
     "name": "stdout",
     "output_type": "stream",
     "text": [
      "[10:16:29] WARNING: C:/Users/Administrator/workspace/xgboost-win64_release_1.5.0/src/learner.cc:576: \n",
      "Parameters: { \"njobs\" } might not be used.\n",
      "\n",
      "  This could be a false alarm, with some parameters getting used by language bindings but\n",
      "  then being mistakenly passed down to XGBoost core, or some parameter actually being used\n",
      "  but getting flagged wrongly here. Please open an issue if you find any such cases.\n",
      "\n",
      "\n"
     ]
    }
   ],
   "source": [
    "# Define X and Y variables \n",
    "c2_postpeak_data = c2_postpeak.drop(columns=['X', 'Case', 'log.Case.1.', 'City'])\n",
    "c2_postpeak_target = c2_postpeak['Case']\n",
    "# Initialize XGBoost model and GridSearchCV process \n",
    "xgb_c2_postpeak = xgb.XGBRegressor()\n",
    "c2_postpeak_gridsearch = GridSearchCV(estimator=xgb_c2_postpeak, param_grid=parameters,\n",
    "                                     n_jobs=-1, cv=5, verbose=2, scoring='r2')\n",
    "# Train the models\n",
    "c2_postpeak_gridsearch.fit(c2_postpeak_data, c2_postpeak_target);"
   ]
  },
  {
   "cell_type": "code",
   "execution_count": 13,
   "id": "fbaffa84-38d3-46c7-a851-60812b7489bb",
   "metadata": {},
   "outputs": [],
   "source": [
    "c2_postpeak_result = pd.DataFrame(c2_postpeak_gridsearch.cv_results_).sort_values(\n",
    "    'mean_test_score', ascending=False).iloc[0][key_metrics].to_frame()\n",
    "c2_postpeak_dir = os.path.join(hyperparam_dir, 'c2_postpeak_best_XGB.csv')\n",
    "c2_postpeak_result.T.to_csv(c2_postpeak_dir, index=False)"
   ]
  },
  {
   "cell_type": "markdown",
   "id": "c4d5f60e-1229-4be7-9620-a4bd87789cc3",
   "metadata": {
    "tags": []
   },
   "source": [
    "### Cluster 2 Spread: Train/Cross-Validate XGBoost Model"
   ]
  },
  {
   "cell_type": "code",
   "execution_count": 14,
   "id": "88c50347-78cd-40b2-b2ff-051e67061e2d",
   "metadata": {},
   "outputs": [
    {
     "name": "stdout",
     "output_type": "stream",
     "text": [
      "Fitting 5 folds for each of 40 candidates, totalling 200 fits\n"
     ]
    },
    {
     "name": "stderr",
     "output_type": "stream",
     "text": [
      "[Parallel(n_jobs=-1)]: Using backend LokyBackend with 12 concurrent workers.\n",
      "[Parallel(n_jobs=-1)]: Done  17 tasks      | elapsed:    1.5s\n",
      "[Parallel(n_jobs=-1)]: Done 138 tasks      | elapsed:   17.2s\n",
      "[Parallel(n_jobs=-1)]: Done 200 out of 200 | elapsed:   25.2s finished\n"
     ]
    },
    {
     "name": "stdout",
     "output_type": "stream",
     "text": [
      "[10:16:55] WARNING: C:/Users/Administrator/workspace/xgboost-win64_release_1.5.0/src/learner.cc:576: \n",
      "Parameters: { \"njobs\" } might not be used.\n",
      "\n",
      "  This could be a false alarm, with some parameters getting used by language bindings but\n",
      "  then being mistakenly passed down to XGBoost core, or some parameter actually being used\n",
      "  but getting flagged wrongly here. Please open an issue if you find any such cases.\n",
      "\n",
      "\n"
     ]
    }
   ],
   "source": [
    "# Define X and Y variables \n",
    "c2_spread_data = c2_spread.drop(columns=['X', 'Case', 'log.Case.1.', 'City'])\n",
    "c2_spread_target = c2_spread['Case']\n",
    "# Initialize XGBoost model and GridSearchCV process \n",
    "xgb_c2_spread = xgb.XGBRegressor()\n",
    "c2_spread_gridsearch = GridSearchCV(estimator=xgb_c2_spread, param_grid=parameters,\n",
    "                                     n_jobs=-1, cv=5, verbose=2, scoring='r2')\n",
    "# Train the models\n",
    "c2_spread_gridsearch.fit(c2_spread_data, c2_spread_target);"
   ]
  },
  {
   "cell_type": "code",
   "execution_count": 15,
   "id": "54c676f6-2da3-4395-84fe-425bfa1abe85",
   "metadata": {},
   "outputs": [],
   "source": [
    "c2_spread_result = pd.DataFrame(c2_spread_gridsearch.cv_results_).sort_values(\n",
    "    'mean_test_score', ascending=False).iloc[0][key_metrics].to_frame()\n",
    "c2_spread_dir = os.path.join(hyperparam_dir, 'c2_spread_best_XGB.csv')\n",
    "c2_spread_result.T.to_csv(c2_spread_dir, index=False)"
   ]
  },
  {
   "cell_type": "markdown",
   "id": "26018a7b-623c-4a03-8443-99f4f4093d7f",
   "metadata": {
    "tags": []
   },
   "source": [
    "### Cluster 3 Overall: Train/Cross-Validate XGBoost Model"
   ]
  },
  {
   "cell_type": "code",
   "execution_count": 16,
   "id": "ec49271f-9af5-4c17-bf65-4829a4fcb9ac",
   "metadata": {},
   "outputs": [
    {
     "name": "stdout",
     "output_type": "stream",
     "text": [
      "Fitting 5 folds for each of 40 candidates, totalling 200 fits\n"
     ]
    },
    {
     "name": "stderr",
     "output_type": "stream",
     "text": [
      "[Parallel(n_jobs=-1)]: Using backend LokyBackend with 12 concurrent workers.\n",
      "[Parallel(n_jobs=-1)]: Done  17 tasks      | elapsed:    4.3s\n",
      "[Parallel(n_jobs=-1)]: Done 138 tasks      | elapsed:   51.8s\n",
      "[Parallel(n_jobs=-1)]: Done 200 out of 200 | elapsed:  1.3min finished\n"
     ]
    },
    {
     "name": "stdout",
     "output_type": "stream",
     "text": [
      "[10:18:14] WARNING: C:/Users/Administrator/workspace/xgboost-win64_release_1.5.0/src/learner.cc:576: \n",
      "Parameters: { \"njobs\" } might not be used.\n",
      "\n",
      "  This could be a false alarm, with some parameters getting used by language bindings but\n",
      "  then being mistakenly passed down to XGBoost core, or some parameter actually being used\n",
      "  but getting flagged wrongly here. Please open an issue if you find any such cases.\n",
      "\n",
      "\n"
     ]
    }
   ],
   "source": [
    "# Define X and Y variables \n",
    "c3_overall_data = c3_overall.drop(columns=['X', 'Case', 'log.Case.1.', 'City'])\n",
    "c3_overall_target = c3_overall['Case']\n",
    "# Initialize XGBoost model and GridSearchCV process \n",
    "xgb_c3_overall = xgb.XGBRegressor()\n",
    "c3_overall_gridsearch = GridSearchCV(estimator=xgb_c3_overall, param_grid=parameters,\n",
    "                                     n_jobs=-1, cv=5, verbose=2, scoring='r2')\n",
    "# Train the models\n",
    "c3_overall_gridsearch.fit(c3_overall_data, c3_overall_target);"
   ]
  },
  {
   "cell_type": "code",
   "execution_count": 17,
   "id": "fc6ebb80-8bc3-430a-bcbb-1b58295f1d0d",
   "metadata": {},
   "outputs": [],
   "source": [
    "c3_overall_result = pd.DataFrame(c3_overall_gridsearch.cv_results_).sort_values(\n",
    "    'mean_test_score', ascending=False).iloc[0][key_metrics].to_frame()\n",
    "c3_overall_dir = os.path.join(hyperparam_dir, 'c3_overall_best_XGB.csv')\n",
    "c3_overall_result.T.to_csv(c3_overall_dir, index=False)"
   ]
  },
  {
   "cell_type": "markdown",
   "id": "3edb3a20-d928-43ca-b12f-39b4b6bc0d2d",
   "metadata": {
    "tags": []
   },
   "source": [
    "### Cluster 3 Postpeak: Train/Cross-Validate XGBoost Model"
   ]
  },
  {
   "cell_type": "code",
   "execution_count": 18,
   "id": "5f2ba6de-7367-40ba-8c87-6c8c4db72a72",
   "metadata": {},
   "outputs": [
    {
     "name": "stdout",
     "output_type": "stream",
     "text": [
      "Fitting 5 folds for each of 40 candidates, totalling 200 fits\n"
     ]
    },
    {
     "name": "stderr",
     "output_type": "stream",
     "text": [
      "[Parallel(n_jobs=-1)]: Using backend LokyBackend with 12 concurrent workers.\n",
      "[Parallel(n_jobs=-1)]: Done  17 tasks      | elapsed:    3.2s\n",
      "[Parallel(n_jobs=-1)]: Done 138 tasks      | elapsed:   42.4s\n",
      "[Parallel(n_jobs=-1)]: Done 200 out of 200 | elapsed:  1.1min finished\n"
     ]
    },
    {
     "name": "stdout",
     "output_type": "stream",
     "text": [
      "[10:19:20] WARNING: C:/Users/Administrator/workspace/xgboost-win64_release_1.5.0/src/learner.cc:576: \n",
      "Parameters: { \"njobs\" } might not be used.\n",
      "\n",
      "  This could be a false alarm, with some parameters getting used by language bindings but\n",
      "  then being mistakenly passed down to XGBoost core, or some parameter actually being used\n",
      "  but getting flagged wrongly here. Please open an issue if you find any such cases.\n",
      "\n",
      "\n"
     ]
    }
   ],
   "source": [
    "# Define X and Y variables \n",
    "c3_postpeak_data = c3_postpeak.drop(columns=['X', 'Case', 'log.Case.1.', 'City'])\n",
    "c3_postpeak_target = c3_postpeak['Case']\n",
    "# Initialize XGBoost model and GridSearchCV process \n",
    "xgb_c3_postpeak = xgb.XGBRegressor()\n",
    "c3_postpeak_gridsearch = GridSearchCV(estimator=xgb_c3_postpeak, param_grid=parameters,\n",
    "                                     n_jobs=-1, cv=5, verbose=2, scoring='r2')\n",
    "# Train the models\n",
    "c3_postpeak_gridsearch.fit(c3_postpeak_data, c3_postpeak_target);"
   ]
  },
  {
   "cell_type": "code",
   "execution_count": 19,
   "id": "e7d74240-85a0-463f-a4d3-caad7ec9b25d",
   "metadata": {},
   "outputs": [],
   "source": [
    "c3_postpeak_result = pd.DataFrame(c3_postpeak_gridsearch.cv_results_).sort_values(\n",
    "    'mean_test_score', ascending=False).iloc[0][key_metrics].to_frame()\n",
    "c3_postpeak_dir = os.path.join(hyperparam_dir, 'c3_postpeak_best_XGB.csv')\n",
    "c3_postpeak_result.T.to_csv(c3_postpeak_dir, index=False)"
   ]
  },
  {
   "cell_type": "markdown",
   "id": "8e87d257-3996-4c07-bc37-8e9326a9ecca",
   "metadata": {
    "tags": []
   },
   "source": [
    "### Cluster 3 Spread: Train/Cross-Validate XGBoost Model"
   ]
  },
  {
   "cell_type": "code",
   "execution_count": 20,
   "id": "28af9865-dc58-458a-b7a8-5240a9e953bc",
   "metadata": {},
   "outputs": [
    {
     "name": "stdout",
     "output_type": "stream",
     "text": [
      "Fitting 5 folds for each of 40 candidates, totalling 200 fits\n"
     ]
    },
    {
     "name": "stderr",
     "output_type": "stream",
     "text": [
      "[Parallel(n_jobs=-1)]: Using backend LokyBackend with 12 concurrent workers.\n",
      "[Parallel(n_jobs=-1)]: Done  17 tasks      | elapsed:    2.1s\n",
      "[Parallel(n_jobs=-1)]: Done 138 tasks      | elapsed:   23.4s\n",
      "[Parallel(n_jobs=-1)]: Done 200 out of 200 | elapsed:   52.9s finished\n"
     ]
    },
    {
     "name": "stdout",
     "output_type": "stream",
     "text": [
      "[10:20:15] WARNING: C:/Users/Administrator/workspace/xgboost-win64_release_1.5.0/src/learner.cc:576: \n",
      "Parameters: { \"njobs\" } might not be used.\n",
      "\n",
      "  This could be a false alarm, with some parameters getting used by language bindings but\n",
      "  then being mistakenly passed down to XGBoost core, or some parameter actually being used\n",
      "  but getting flagged wrongly here. Please open an issue if you find any such cases.\n",
      "\n",
      "\n"
     ]
    }
   ],
   "source": [
    "# Define X and Y variables \n",
    "c3_spread_data = c3_spread.drop(columns=['X', 'Case', 'log.Case.1.', 'City'])\n",
    "c3_spread_target = c3_spread['Case']\n",
    "# Initialize XGBoost model and GridSearchCV process \n",
    "xgb_c3_spread = xgb.XGBRegressor()\n",
    "c3_spread_gridsearch = GridSearchCV(estimator=xgb_c3_spread, param_grid=parameters,\n",
    "                                     n_jobs=-1, cv=5, verbose=2, scoring='r2')\n",
    "# Train the models\n",
    "c3_spread_gridsearch.fit(c3_spread_data, c3_spread_target);"
   ]
  },
  {
   "cell_type": "code",
   "execution_count": 21,
   "id": "5960f1b8-bb8e-4ca1-8ebd-707c06115dd3",
   "metadata": {},
   "outputs": [],
   "source": [
    "c3_spread_result = pd.DataFrame(c3_spread_gridsearch.cv_results_).sort_values(\n",
    "    'mean_test_score', ascending=False).iloc[0][key_metrics].to_frame()\n",
    "c3_spread_dir = os.path.join(hyperparam_dir, 'c3_spread_best_XGB.csv')\n",
    "c3_spread_result.T.to_csv(c3_spread_dir, index=False)"
   ]
  }
 ],
 "metadata": {
  "kernelspec": {
   "display_name": "Python 3 (ipykernel)",
   "language": "python",
   "name": "python3"
  },
  "language_info": {
   "codemirror_mode": {
    "name": "ipython",
    "version": 3
   },
   "file_extension": ".py",
   "mimetype": "text/x-python",
   "name": "python",
   "nbconvert_exporter": "python",
   "pygments_lexer": "ipython3",
   "version": "3.7.12"
  }
 },
 "nbformat": 4,
 "nbformat_minor": 5
}
