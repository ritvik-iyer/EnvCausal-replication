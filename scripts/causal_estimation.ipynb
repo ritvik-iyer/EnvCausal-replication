{
 "cells": [
  {
   "cell_type": "markdown",
   "id": "1a6a3f4c-c4b7-40de-847a-309c402ff82c",
   "metadata": {},
   "source": [
    "### Import Libraries"
   ]
  },
  {
   "cell_type": "code",
   "execution_count": 1,
   "id": "3968fd2a-9e85-4e86-8f6f-b389e5cfb6d8",
   "metadata": {},
   "outputs": [],
   "source": [
    "# Libraries for data processing and math \n",
    "import pandas as pd\n",
    "import numpy as np\n",
    "\n",
    "# Library for causal estimation \n",
    "import dowhy\n",
    "\n",
    "# Library for file path manipulation \n",
    "import os\n",
    "\n",
    "# Set seed to control randomness\n",
    "np.random.seed(156)"
   ]
  },
  {
   "cell_type": "markdown",
   "id": "c526a5c5-439b-4a70-af84-43108818d53d",
   "metadata": {},
   "source": [
    "### Causal Estimation"
   ]
  },
  {
   "cell_type": "code",
   "execution_count": null,
   "id": "3a99771c-c284-4d8b-aeaa-1a6c2b3442f1",
   "metadata": {},
   "outputs": [],
   "source": []
  }
 ],
 "metadata": {
  "kernelspec": {
   "display_name": "Python 3 (ipykernel)",
   "language": "python",
   "name": "python3"
  },
  "language_info": {
   "codemirror_mode": {
    "name": "ipython",
    "version": 3
   },
   "file_extension": ".py",
   "mimetype": "text/x-python",
   "name": "python",
   "nbconvert_exporter": "python",
   "pygments_lexer": "ipython3",
   "version": "3.7.12"
  }
 },
 "nbformat": 4,
 "nbformat_minor": 5
}
