{
 "cells": [
  {
   "cell_type": "markdown",
   "metadata": {},
   "source": [
    "### Import libraries"
   ]
  },
  {
   "cell_type": "code",
   "execution_count": null,
   "metadata": {},
   "outputs": [],
   "source": [
    "# Libraries for data processing and math \n",
    "import pandas as pd\n",
    "import numpy as np\n",
    "\n",
    "# Library for file path manipulation \n",
    "import os\n",
    "\n",
    "# Library for Mandarin to English translation \n",
    "import pinyin\n",
    "\n",
    "# Library for simplifying function calls \n",
    "from functools import partial"
   ]
  },
  {
   "cell_type": "markdown",
   "metadata": {},
   "source": [
    "### Set data paths"
   ]
  },
  {
   "cell_type": "code",
   "execution_count": null,
   "metadata": {},
   "outputs": [],
   "source": [
    "# This gets the file path of the data folder in EnvCausal-replication \n",
    "root = os.path.dirname(os.getcwd())\n",
    "data_dir = os.path.join(root, 'data')\n",
    "\n",
    "# Set the file path for the snapshot data set\n",
    "snapshot_path = os.path.join(data_dir, 'snapshot_data.csv')\n",
    "\n",
    "# Set the file path for the 3-day moving average data set\n",
    "time_series_3_day_dir = os.path.join(data_dir, 'time_series', '3_day_moving_average')\n",
    "time_series_path = os.path.join(time_series_3_day_dir, 'df_m3.csv')"
   ]
  },
  {
   "cell_type": "markdown",
   "metadata": {},
   "source": [
    "### Create Summary Statistics Table for Snapshot data"
   ]
  },
  {
   "cell_type": "code",
   "execution_count": null,
   "metadata": {
    "scrolled": false
   },
   "outputs": [],
   "source": [
    "# Read snapshots data set \n",
    "snapshots = pd.read_csv(snapshot_path)\n",
    "\n",
    "# Rename features for clarity \n",
    "column_name_map = {\n",
    "                   'POP':'Population (in thousands)',\n",
    "                   'Area':'City area (in km^2)',\n",
    "                   'POPDENS':'Population Density (people per km^2)',\n",
    "                   'GDP':'GDP (Billions USD)',\n",
    "                   'PRIM':'Primary sector (Billions USD)',\n",
    "                   'SEC':'Secondary sector (Billions USD)',\n",
    "                   'TERT':'Tertiary sector (Billions USD)',\n",
    "                   'Prim%':'Primary sector % of GDP',\n",
    "                   'Sec%':'Secondary sector % of GDP',\n",
    "                   'Tert%':'Tertiary sector % of GDP',\n",
    "                   'GDPpc':'GDP per capita (Billions USD per km^2)',\n",
    "                   '>60yr%':'Elderly population %',\n",
    "                   'BED':'Hospital Beds (per thousand people)',\n",
    "                   'DOC':'Registered doctors (per thousand)',\n",
    "                   'NRS':'Registered nurses (per thousand)',\n",
    "                   'TVLR':'Wuhan travellers (thousands)',\n",
    "                   'TVLR‰':'Wuhan travellers (per thousand pop.)',\n",
    "                   'ACTV':'Average degree of activeness (0-8)'\n",
    "                  }\n",
    "snapshots['POP'] *= 10\n",
    "snapshots['POPDENS'] *= 10000\n",
    "snapshots['Prim%'] *= 100\n",
    "snapshots['Sec%'] *= 100\n",
    "snapshots['Tert%'] *= 100\n",
    "snapshots['>60yr%'] *= 100\n",
    "snapshots['TVLR'] *= 10\n",
    "snapshots['TVLR‰'] *= 1000\n",
    "snapshots = snapshots.drop(\n",
    "    columns=[x for x in snapshots.columns if x not in column_name_map]).rename(\n",
    "    column_name_map, axis=1)\n",
    "first_quartile = partial(np.percentile, q=25, axis=0)\n",
    "third_quartile = partial(np.percentile, q=75, axis=0)\n",
    "summary_stats_snapshot  = snapshots.apply([np.mean, np.std, np.min, first_quartile,\n",
    "                 np.median, third_quartile, np.max],\n",
    "                 axis=0, result_type='broadcast').T.round(2)\n",
    "summary_stats_snapshot.columns = ['Mean',\n",
    "                         'SD',\n",
    "                         'Min',\n",
    "                         '25th %ile',\n",
    "                         'Median',\n",
    "                         '75th %ile',\n",
    "                         'Max']\n",
    "summary_stats_snapshot['IQR'] = summary_stats_snapshot['75th %ile'] - summary_stats_snapshot['25th %ile']\n",
    "summary_stats_snapshot"
   ]
  },
  {
   "cell_type": "code",
   "execution_count": null,
   "metadata": {},
   "outputs": [],
   "source": [
    "time_series"
   ]
  },
  {
   "cell_type": "code",
   "execution_count": null,
   "metadata": {},
   "outputs": [],
   "source": [
    "time_series = pd.read_csv(time_series_path)\n",
    "column_name_map_2 = {\n",
    "                        'PM2.5':'PM2.5 (μg/m3)',\n",
    "                        'PM10':'PM10 (μg/m3)',\n",
    "                        'SO2':'SO2 (μg/m3)',\n",
    "                        'CO':'CO (mg/m3)' ,\n",
    "                        'NO2':'NO2 (μg/m3)',\n",
    "                        'O3':'O3 (μg/m3)',\n",
    "                        'HUM':'Relative humidity (%)',\n",
    "                        'PRES':'Atmospheric pressure (hpa)',\n",
    "                        'WSPD':'Wind speed (m/s)',\n",
    "                        'TEMP':'Average air temperature',\n",
    "                        'ACTV':'Degree of activeness',\n",
    "                        'Case':'New confirmed cases',\n",
    "                        'MORB%':'Morbidity rate'\n",
    "                    }\n",
    "\n",
    "# def eng_translator(phrase_list):\n",
    "#     translation_map = {}\n",
    "#     for phrase in phrase_list:\n",
    "#         pinyin_phrase = pinyin.get(phrase, format=\"strip\", delimiter=\" \")\n",
    "#         pinyin_phrase = ''.join(pinyin_phrase.split(' '))\n",
    "#         pinyin_phrase = pinyin_phrase[0].upper() + pinyin_phrase[1:]\n",
    "#         translation_map[phrase] = pinyin_phrase\n",
    "#     return translation_map\n",
    "\n",
    "# def translate_column_to_eng(df, col):\n",
    "#     unique_phrases = np.unique(df[col]).tolist()\n",
    "#     translation_map = eng_translator(unique_phrases)\n",
    "#     return df[col].map(translation_map)\n",
    "\n",
    "# time_series.columns.values[0] = 'Date'\n",
    "# time_series.columns.values[1] = 'City'\n",
    "# time_series['City'] = translate_column_to_eng(time_series, 'City')\n",
    "time_series = time_series.drop(\n",
    "    columns=[x for x in time_series.columns if x not in column_name_map_2]).rename(\n",
    "    column_name_map_2, axis=1)\n",
    "summary_stats_time_series = time_series.apply([np.mean, np.std, np.min, first_quartile,\n",
    "                 np.median, third_quartile, np.max],\n",
    "                 axis=0, result_type='broadcast').T.round(2)\n",
    "summary_stats_time_series.columns = ['Mean',\n",
    "                         'SD',\n",
    "                         'Min',\n",
    "                         '25th %ile',\n",
    "                         'Median',\n",
    "                         '75th %ile',\n",
    "                         'Max']\n",
    "summary_stats_time_series"
   ]
  },
  {
   "cell_type": "markdown",
   "metadata": {},
   "source": [
    "### Notes\n",
    "- The original data doesn't measure in same units as summary table \n",
    "    - Needed to convert to in thousands and proportions to percentages \n",
    "\n",
    "- The GDP measurements are off (probably due to different data being used)\n",
    "    - GDP\n",
    "    - Primary sector\n",
    "    - Secondary sector \n",
    "    - Tertiary sector \n",
    "    - Primary sector %\n",
    "    - Secondary sector %\n",
    "    - Tertiary sector %\n",
    "    - GDP per capita\n",
    "    \n",
    "- Time series measurements are difficult to replicate\n",
    "    - Need to figure out if I aggregate over all dates, then over all cities\n",
    "\n",
    "- Need to append ```\\usepackage{booktabs}``` before using LaTeX representation of table"
   ]
  },
  {
   "cell_type": "code",
   "execution_count": null,
   "metadata": {
    "scrolled": false
   },
   "outputs": [],
   "source": [
    "print(summary_stats_snapshot.to_latex(index = True, multirow = True, bold_rows=True))"
   ]
  },
  {
   "cell_type": "code",
   "execution_count": null,
   "metadata": {},
   "outputs": [],
   "source": [
    "print(summary_stats_time_series.to_latex(index = True, multirow = True, bold_rows=True))"
   ]
  }
 ],
 "metadata": {
  "kernelspec": {
   "display_name": "Python 3",
   "language": "python",
   "name": "python3"
  },
  "language_info": {
   "codemirror_mode": {
    "name": "ipython",
    "version": 3
   },
   "file_extension": ".py",
   "mimetype": "text/x-python",
   "name": "python",
   "nbconvert_exporter": "python",
   "pygments_lexer": "ipython3",
   "version": "3.8.8"
  }
 },
 "nbformat": 4,
 "nbformat_minor": 4
}
