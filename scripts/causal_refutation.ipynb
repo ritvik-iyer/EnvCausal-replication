{
 "cells": [
  {
   "cell_type": "markdown",
   "id": "b78c6851-c123-42ab-91e7-7555d1243a85",
   "metadata": {},
   "source": [
    "### Import Libraries"
   ]
  },
  {
   "cell_type": "code",
   "execution_count": 1,
   "id": "6e4692be-f155-42cd-85ce-c21a6c57de98",
   "metadata": {},
   "outputs": [],
   "source": [
    "%load_ext autoreload\n",
    "\n",
    "%autoreload 2\n",
    "# Libraries for data processing and math \n",
    "import pandas as pd\n",
    "import numpy as np\n",
    "\n",
    "# Library for causal estimation \n",
    "import dowhy\n",
    "from dowhy import CausalModel\n",
    "import econml\n",
    "from sklearn.preprocessing import MinMaxScaler\n",
    "from causal_estimate import ate_estimate_refutation \n",
    "\n",
    "# Library for file path manipulation \n",
    "import os\n",
    "\n",
    "# Set seed to control randomness\n",
    "np.random.seed(156)"
   ]
  },
  {
   "cell_type": "code",
   "execution_count": 2,
   "id": "90658a7d-5b38-4ed1-b896-fde8fe38ae45",
   "metadata": {},
   "outputs": [],
   "source": [
    "# Declare Causal Graph for all time series data\n",
    "causal_graph = \"\"\"\n",
    "digraph {\n",
    "days; \n",
    "ACTV; \n",
    "TEMP; \n",
    "U[label=\"Unobserved Confounders\"];\n",
    "HUM; \n",
    "WSPD; \n",
    "PRES; \n",
    "NO2; \n",
    "O3; \n",
    "PM2.5; \n",
    "PM10; \n",
    "SO2; \n",
    "CO; \n",
    "Case; \n",
    "days->ACTV; days->TEMP; days->Case; \n",
    "U->ACTV; U->TEMP; U->PRES; U->O3; U->HUM; U->WSPD; \n",
    "ACTV->NO2; ACTV->Case; ACTV->PM2.5; ACTV->PM10; ACTV->SO2; ACTV->CO; \n",
    "PRES->NO2; PRES->O3; PRES->PM2.5; PRES->PM10; PRES->SO2; PRES->C0; \n",
    "TEMP->PRES; TEMP->HUM; \n",
    "HUM->PRES; HUM->N02; HUM->O3; HUM->PM2.5; HUM->PM10; HUM->SO2; HUM->CO;\n",
    "WSPD->N02; WSPD->O3; WSPD->PM2.5; WSPD->PM10; WSPD->SO2; WSPD->CO; \n",
    "NO2->O3; \n",
    "}\n",
    "\"\"\""
   ]
  },
  {
   "cell_type": "markdown",
   "id": "691ae820-9ad5-47db-b543-de555002e7bf",
   "metadata": {},
   "source": [
    "### Read Data"
   ]
  },
  {
   "cell_type": "code",
   "execution_count": 3,
   "id": "37ca5c34-1f2e-4c12-9f3e-4d0482915de2",
   "metadata": {},
   "outputs": [
    {
     "data": {
      "text/html": [
       "<div>\n",
       "<style scoped>\n",
       "    .dataframe tbody tr th:only-of-type {\n",
       "        vertical-align: middle;\n",
       "    }\n",
       "\n",
       "    .dataframe tbody tr th {\n",
       "        vertical-align: top;\n",
       "    }\n",
       "\n",
       "    .dataframe thead th {\n",
       "        text-align: right;\n",
       "    }\n",
       "</style>\n",
       "<table border=\"1\" class=\"dataframe\">\n",
       "  <thead>\n",
       "    <tr style=\"text-align: right;\">\n",
       "      <th></th>\n",
       "      <th>days</th>\n",
       "      <th>ACTV</th>\n",
       "      <th>TEMP</th>\n",
       "      <th>HUM</th>\n",
       "      <th>WSPD</th>\n",
       "      <th>PRES</th>\n",
       "      <th>NO2</th>\n",
       "      <th>O3</th>\n",
       "      <th>PM2.5</th>\n",
       "      <th>PM10</th>\n",
       "      <th>SO2</th>\n",
       "      <th>CO</th>\n",
       "      <th>Case</th>\n",
       "    </tr>\n",
       "  </thead>\n",
       "  <tbody>\n",
       "    <tr>\n",
       "      <th>0</th>\n",
       "      <td>0.000000</td>\n",
       "      <td>0.570104</td>\n",
       "      <td>0.502793</td>\n",
       "      <td>0.993318</td>\n",
       "      <td>0.000000</td>\n",
       "      <td>0.869388</td>\n",
       "      <td>0.910256</td>\n",
       "      <td>0.425481</td>\n",
       "      <td>0.382456</td>\n",
       "      <td>0.240291</td>\n",
       "      <td>0.310345</td>\n",
       "      <td>0.491803</td>\n",
       "      <td>0.000000</td>\n",
       "    </tr>\n",
       "    <tr>\n",
       "      <th>1</th>\n",
       "      <td>0.012987</td>\n",
       "      <td>0.509862</td>\n",
       "      <td>0.477654</td>\n",
       "      <td>1.000000</td>\n",
       "      <td>0.000000</td>\n",
       "      <td>0.869388</td>\n",
       "      <td>0.717949</td>\n",
       "      <td>0.414663</td>\n",
       "      <td>0.266667</td>\n",
       "      <td>0.156553</td>\n",
       "      <td>0.258621</td>\n",
       "      <td>0.368852</td>\n",
       "      <td>0.063063</td>\n",
       "    </tr>\n",
       "    <tr>\n",
       "      <th>2</th>\n",
       "      <td>0.025974</td>\n",
       "      <td>0.441704</td>\n",
       "      <td>0.469274</td>\n",
       "      <td>0.997773</td>\n",
       "      <td>0.062016</td>\n",
       "      <td>0.889796</td>\n",
       "      <td>0.589744</td>\n",
       "      <td>0.485577</td>\n",
       "      <td>0.245614</td>\n",
       "      <td>0.203883</td>\n",
       "      <td>0.275862</td>\n",
       "      <td>0.327869</td>\n",
       "      <td>0.099099</td>\n",
       "    </tr>\n",
       "    <tr>\n",
       "      <th>3</th>\n",
       "      <td>0.038961</td>\n",
       "      <td>0.312268</td>\n",
       "      <td>0.446927</td>\n",
       "      <td>0.979955</td>\n",
       "      <td>0.062016</td>\n",
       "      <td>0.922449</td>\n",
       "      <td>0.371795</td>\n",
       "      <td>0.485577</td>\n",
       "      <td>0.133333</td>\n",
       "      <td>0.131068</td>\n",
       "      <td>0.241379</td>\n",
       "      <td>0.213115</td>\n",
       "      <td>0.216216</td>\n",
       "    </tr>\n",
       "    <tr>\n",
       "      <th>4</th>\n",
       "      <td>0.051948</td>\n",
       "      <td>0.213670</td>\n",
       "      <td>0.430168</td>\n",
       "      <td>0.975501</td>\n",
       "      <td>0.124031</td>\n",
       "      <td>0.938776</td>\n",
       "      <td>0.262821</td>\n",
       "      <td>0.512019</td>\n",
       "      <td>0.101754</td>\n",
       "      <td>0.128641</td>\n",
       "      <td>0.275862</td>\n",
       "      <td>0.196721</td>\n",
       "      <td>0.216216</td>\n",
       "    </tr>\n",
       "  </tbody>\n",
       "</table>\n",
       "</div>"
      ],
      "text/plain": [
       "       days      ACTV      TEMP       HUM      WSPD      PRES       NO2  \\\n",
       "0  0.000000  0.570104  0.502793  0.993318  0.000000  0.869388  0.910256   \n",
       "1  0.012987  0.509862  0.477654  1.000000  0.000000  0.869388  0.717949   \n",
       "2  0.025974  0.441704  0.469274  0.997773  0.062016  0.889796  0.589744   \n",
       "3  0.038961  0.312268  0.446927  0.979955  0.062016  0.922449  0.371795   \n",
       "4  0.051948  0.213670  0.430168  0.975501  0.124031  0.938776  0.262821   \n",
       "\n",
       "         O3     PM2.5      PM10       SO2        CO      Case  \n",
       "0  0.425481  0.382456  0.240291  0.310345  0.491803  0.000000  \n",
       "1  0.414663  0.266667  0.156553  0.258621  0.368852  0.063063  \n",
       "2  0.485577  0.245614  0.203883  0.275862  0.327869  0.099099  \n",
       "3  0.485577  0.133333  0.131068  0.241379  0.213115  0.216216  \n",
       "4  0.512019  0.101754  0.128641  0.275862  0.196721  0.216216  "
      ]
     },
     "execution_count": 3,
     "metadata": {},
     "output_type": "execute_result"
    }
   ],
   "source": [
    "# Load the data and train the XGBoost models\n",
    "root = os.path.dirname(os.getcwd())\n",
    "data_dir = os.path.join(root, 'data')\n",
    "### Cluster 1 Overall ###\n",
    "c1_overall_path = os.path.join(data_dir, 'time_cluster_1.csv')\n",
    "c1_overall = pd.read_csv(c1_overall_path)\n",
    "all_vars = ['days', 'ACTV', 'TEMP', 'HUM', 'WSPD', 'PRES', 'NO2', 'O3', 'PM2.5', 'PM10', 'SO2', 'CO', 'Case']\n",
    "cluster1_df = c1_overall[all_vars]\n",
    "# Normalize the data \n",
    "scaler = MinMaxScaler()\n",
    "normalized = scaler.fit_transform(cluster1_df.values)\n",
    "cluster1_df_norm = pd.DataFrame(normalized)\n",
    "cluster1_df_norm.columns = cluster1_df.columns\n",
    "cluster1_df_norm.head()"
   ]
  },
  {
   "cell_type": "markdown",
   "id": "2ab935e0-9102-4fa8-9ca6-461f32c78a87",
   "metadata": {
    "tags": []
   },
   "source": [
    "### Causal Refutation for Cluster 1: RCC"
   ]
  },
  {
   "cell_type": "code",
   "execution_count": null,
   "id": "a8b3feba-deee-4e86-b4d4-8ca30c5f083c",
   "metadata": {},
   "outputs": [],
   "source": [
    "# ATE refutation\n",
    "treatments = ['PRES', 'TEMP', 'HUM', 'WSPD']\n",
    "curr_treatments = []\n",
    "ate_linear2 = []\n",
    "ate_forest2 = []\n",
    "for treatment in treatments:\n",
    "    try:\n",
    "        est_forest, ref_forest = ate_estimate_refutation(treatment='PRES', data=cluster1_df_norm, outcome='Case',\n",
    "                                causal_graph=causal_graph, model_type='nonlinear', refutation_type='RCC')\n",
    "        curr_treatments.append(treatment)\n",
    "        ate_linear2.append(first)\n",
    "        ate_forest2.append(second)\n",
    "    except Exception as e:\n",
    "        continue \n",
    "for idx in range(len(curr_treatments)):\n",
    "    print(f'Treatment: {curr_treatments[idx]}')\n",
    "    print('-----------------------------')\n",
    "    print(f'ATE Linear: {ate_linear2[idx]}')\n",
    "    print(f'ATE Forest: {ate_forest2[idx]}')"
   ]
  },
  {
   "cell_type": "code",
   "execution_count": 4,
   "id": "ae489aca-bbc1-43ee-a775-7dd71938cbd3",
   "metadata": {},
   "outputs": [],
   "source": [
    "est, ref = ate_estimate_refutation(treatment='PRES', data=cluster1_df_norm, outcome='Case',\n",
    "                                causal_graph=causal_graph, model_type='linear', refutation_type='RCC')"
   ]
  },
  {
   "cell_type": "code",
   "execution_count": 5,
   "id": "5a77a8f1-9a4a-4ac5-89d2-270e2edf3a63",
   "metadata": {},
   "outputs": [
    {
     "name": "stdout",
     "output_type": "stream",
     "text": [
      "*** Causal Estimate ***\n",
      "\n",
      "## Identified estimand\n",
      "Estimand type: nonparametric-ate\n",
      "\n",
      "### Estimand : 1\n",
      "Estimand name: backdoor\n",
      "Estimand expression:\n",
      "   d                                                 \n",
      "───────(Expectation(Case|HUM,CO,ACTV,WSPD,TEMP,days))\n",
      "d[PRES]                                              \n",
      "Estimand assumption 1, Unconfoundedness: If U→{PRES} and U→Case then P(Case|PRES,HUM,CO,ACTV,WSPD,TEMP,days,U) = P(Case|PRES,HUM,CO,ACTV,WSPD,TEMP,days)\n",
      "\n",
      "## Realized estimand\n",
      "b: Case~PRES+HUM+CO+ACTV+WSPD+TEMP+days+PRES*ACTV\n",
      "Target units: ate\n",
      "\n",
      "## Estimate\n",
      "Mean value: 0.07008893758689774\n",
      "### Conditional Estimates\n",
      "__categorical__ACTV\n",
      "(-0.001, 0.166]    0.086774\n",
      "(0.166, 0.319]     0.079717\n",
      "(0.319, 0.477]     0.070445\n",
      "(0.477, 0.634]     0.062457\n",
      "(0.634, 1.0]       0.050898\n",
      "dtype: float64\n"
     ]
    }
   ],
   "source": [
    "print(est)"
   ]
  },
  {
   "cell_type": "code",
   "execution_count": 6,
   "id": "91257892-aa57-4069-bc3e-fb2e423050f8",
   "metadata": {},
   "outputs": [
    {
     "name": "stdout",
     "output_type": "stream",
     "text": [
      "Refute: Add a Random Common Cause\n",
      "Estimated effect:0.07008893758689774\n",
      "New effect:0.06756068743849529\n",
      "\n"
     ]
    }
   ],
   "source": [
    "print(ref)"
   ]
  },
  {
   "cell_type": "code",
   "execution_count": null,
   "id": "acb7aa8f-e9c6-42ce-ba2d-30c8630f7773",
   "metadata": {},
   "outputs": [],
   "source": []
  },
  {
   "cell_type": "code",
   "execution_count": null,
   "id": "3ffaeb07-2192-453a-b666-068bb6e6c0ac",
   "metadata": {},
   "outputs": [],
   "source": []
  }
 ],
 "metadata": {
  "kernelspec": {
   "display_name": "Python 3 (ipykernel)",
   "language": "python",
   "name": "python3"
  },
  "language_info": {
   "codemirror_mode": {
    "name": "ipython",
    "version": 3
   },
   "file_extension": ".py",
   "mimetype": "text/x-python",
   "name": "python",
   "nbconvert_exporter": "python",
   "pygments_lexer": "ipython3",
   "version": "3.7.12"
  }
 },
 "nbformat": 4,
 "nbformat_minor": 5
}
